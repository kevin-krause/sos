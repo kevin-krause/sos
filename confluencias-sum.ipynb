{
 "cells": [
  {
   "cell_type": "markdown",
   "metadata": {},
   "source": [
    "# Confluências, modelo de mommentum"
   ]
  },
  {
   "cell_type": "markdown",
   "metadata": {},
   "source": [
    "Confluências-Sum é um modelo de mommentum idealizado para captar oportunidades de curto prazo (3 a 7 dias), se baseando na confluencîa de alguns fatores para determinar compra ou venda de um ativo.\n",
    "\n",
    "Esse algoritmo foi desenhado para performar no mercado cripto, devemos nos atentar par possiveis desvios de comportamento."
   ]
  },
  {
   "cell_type": "code",
   "execution_count": 1,
   "metadata": {},
   "outputs": [],
   "source": [
    "# Bibliotecas necessárias\n",
    "import yfinance as yf\n",
    "import pandas as pd\n",
    "import numpy as np\n",
    "import pandas_datareader as web\n",
    "from datetime import datetime\n",
    "import xlwt\n",
    "import matplotlib.pyplot as plt\n",
    "\n"
   ]
  },
  {
   "cell_type": "markdown",
   "metadata": {},
   "source": [
    "Ativos:"
   ]
  },
  {
   "cell_type": "code",
   "execution_count": 2,
   "metadata": {},
   "outputs": [],
   "source": [
    "tickers = \"VALE3.SA\""
   ]
  },
  {
   "cell_type": "code",
   "execution_count": 3,
   "metadata": {},
   "outputs": [],
   "source": [
    "end_date =  '{}-{}-{}' .format( datetime.now().year,  datetime.now().month,  datetime.now().day)"
   ]
  },
  {
   "cell_type": "code",
   "execution_count": 4,
   "metadata": {},
   "outputs": [],
   "source": [
    "yahoo_data = yf.download(tickers=tickers, #\n",
    "start=\"2022-08-29\", \n",
    "end=end_date, interval='1d')\n",
    "intraday_data = yf.download(tickers=tickers, period=\"1d\", interval=\"1h\")\n"
   ]
  },
  {
   "cell_type": "markdown",
   "metadata": {},
   "source": []
  },
  {
   "cell_type": "markdown",
   "metadata": {},
   "source": [
    " In case we have to verifeiy it better\n",
    " print(yahoo_data)"
   ]
  },
  {
   "cell_type": "code",
   "execution_count": null,
   "metadata": {},
   "outputs": [],
   "source": [
    "close = yahoo_data['Close']\n",
    "volume = yahoo_data['Volume']\n",
    "high = yahoo_data['High']\n",
    "low = yahoo_data['Low']\n",
    "\n",
    "# Intraday data\n",
    "intraday_close = intraday_data['Close']\n",
    "intraday_high = intraday_data['High']\n",
    "intraday_low = intraday_data['Low']\n",
    "intraday_volume = intraday_data['Volume']\n"
   ]
  },
  {
   "cell_type": "code",
   "execution_count": null,
   "metadata": {},
   "outputs": [],
   "source": [
    "dados = pd.DataFrame()\n",
    "dados['Volume'] = volume.iloc[:-1]\n",
    "dados['Close'] = close.iloc[:-1]\n",
    "dados['Intraday Close'] = intraday_close.iloc[:-1]\n",
    "MME3 = close.ewm(span=9).mean()\n",
    "MME7 = close.ewm(span=21).mean()\n",
    "dados['MME3'] = MME3.iloc[:-1]\n",
    "dados['MME7'] = MME7.iloc[:-1]\n",
    "both_close =  pd.concat([close,intraday_close.tail(1)]) \n"
   ]
  },
  {
   "cell_type": "code",
   "execution_count": null,
   "metadata": {},
   "outputs": [],
   "source": [
    "def Volume_Projetado(VolumeAtual):\n",
    "  now = datetime.now()\n",
    "  BrazilHour = now.hour -3\n",
    "  BrazilMinute = now.minute\n",
    "  diffMinutes = 60 - BrazilMinute\n",
    "\n",
    "  diffClose = (18 - BrazilHour) * 60 - BrazilMinute\n",
    "  diffOpen = (BrazilHour - 10) * 60 + BrazilMinute\n",
    "\n",
    "  VolumeFaltante = diffClose*(VolumeAtual/diffOpen)\n",
    "\n",
    "  VolumeProjetado = VolumeAtual + VolumeFaltante\n",
    "  return VolumeProjetado"
   ]
  },
  {
   "cell_type": "code",
   "execution_count": null,
   "metadata": {},
   "outputs": [
    {
     "name": "stdout",
     "output_type": "stream",
     "text": [
      "[*********************100%***********************]  1 of 1 completed\n"
     ]
    },
    {
     "data": {
      "text/plain": [
       "Date\n",
       "2022-08-26    2.443723e+07\n",
       "2022-08-29    2.212810e+07\n",
       "Name: Volume, dtype: float64"
      ]
     },
     "execution_count": 43,
     "metadata": {},
     "output_type": "execute_result"
    }
   ],
   "source": [
    "# DELTA AVAT\n",
    "# Volume Projetado\n",
    "last_two = yf.download(tickers=tickers, period='3d', interval='1d')['Volume'].iloc[:-1]\n",
    "last_two.iloc[:-1] = Volume_Projetado(last_two.iloc[:-1] )\n",
    "last_two"
   ]
  },
  {
   "cell_type": "code",
   "execution_count": null,
   "metadata": {},
   "outputs": [],
   "source": [
    "### RETORNO CLOSE ANTERIOR E ULTIMO PREÇO\n",
    "dados['Retorno (Close[1]/Intra)'] = ((dados['Intraday Close'] / dados['Close'] ) -1 ) * 100"
   ]
  },
  {
   "cell_type": "code",
   "execution_count": null,
   "metadata": {},
   "outputs": [],
   "source": [
    "#### DELTA AVAT 1D\n",
    "# VOLUME PROJETADO / 1D AVAT\n",
    "delta_avat_1d = (last_two.iloc[:-1] / last_two.iloc[:-2]) - 1\n",
    "dados['Volume Projetado'] = last_two.iloc[:-1]\n",
    "dados['Delta AVAT 1D'] = (dados['Volume Projetado']/dados['Volume']) - 1\n",
    "dados['Fast AVAT'] = (dados['Delta AVAT 1D'] > 0.5) & (dados['Retorno (Close[1]/Intra)'] < 0.5 )  & (dados['Retorno (Close[1]/Intra)'] > -0.5 )\n",
    "dados['Fast AVAT'] = dados['Fast AVAT'].astype(int)"
   ]
  },
  {
   "cell_type": "code",
   "execution_count": null,
   "metadata": {},
   "outputs": [
    {
     "name": "stdout",
     "output_type": "stream",
     "text": [
      "2022-08-30 10:00:00-03:00   NaN\n",
      "2022-08-30 11:00:00-03:00   NaN\n",
      "2022-08-30 12:00:00-03:00   NaN\n",
      "2022-08-30 13:00:00-03:00   NaN\n",
      "2022-08-30 14:00:00-03:00   NaN\n",
      "2022-08-30 15:00:00-03:00   NaN\n",
      "2022-08-30 16:00:00-03:00   NaN\n",
      "Name: Volume Projetado, dtype: float64\n"
     ]
    }
   ],
   "source": [
    "print(dados['Volume Projetado'])"
   ]
  },
  {
   "cell_type": "code",
   "execution_count": null,
   "metadata": {},
   "outputs": [],
   "source": [
    "MME3_intraday = both_close.ewm(span=3).mean()\n",
    "MME7_intraday = both_close.ewm(span=7).mean()\n"
   ]
  },
  {
   "cell_type": "code",
   "execution_count": null,
   "metadata": {},
   "outputs": [],
   "source": [
    "dados['MME3_intraday'] = MME3_intraday.iloc[-2]\n",
    "dados['MME7_intraday'] = MME7_intraday.iloc[-2]"
   ]
  },
  {
   "cell_type": "code",
   "execution_count": null,
   "metadata": {},
   "outputs": [
    {
     "data": {
      "text/html": [
       "<div>\n",
       "<style scoped>\n",
       "    .dataframe tbody tr th:only-of-type {\n",
       "        vertical-align: middle;\n",
       "    }\n",
       "\n",
       "    .dataframe tbody tr th {\n",
       "        vertical-align: top;\n",
       "    }\n",
       "\n",
       "    .dataframe thead th {\n",
       "        text-align: right;\n",
       "    }\n",
       "</style>\n",
       "<table border=\"1\" class=\"dataframe\">\n",
       "  <thead>\n",
       "    <tr style=\"text-align: right;\">\n",
       "      <th></th>\n",
       "      <th>Volume</th>\n",
       "      <th>Close</th>\n",
       "      <th>Intraday Close</th>\n",
       "      <th>MME3</th>\n",
       "      <th>MME7</th>\n",
       "      <th>Retorno (Close[1]/Intra)</th>\n",
       "      <th>Volume Projetado</th>\n",
       "      <th>Delta AVAT 1D</th>\n",
       "      <th>Fast AVAT</th>\n",
       "      <th>MME3_intraday</th>\n",
       "      <th>MME7_intraday</th>\n",
       "      <th>Fast EMA Cross</th>\n",
       "      <th>Fast EMA Cross Minus</th>\n",
       "    </tr>\n",
       "  </thead>\n",
       "  <tbody>\n",
       "    <tr>\n",
       "      <th>2022-08-30 10:00:00-03:00</th>\n",
       "      <td>NaN</td>\n",
       "      <td>NaN</td>\n",
       "      <td>65.449997</td>\n",
       "      <td>NaN</td>\n",
       "      <td>NaN</td>\n",
       "      <td>NaN</td>\n",
       "      <td>NaN</td>\n",
       "      <td>NaN</td>\n",
       "      <td>0</td>\n",
       "      <td>66.910004</td>\n",
       "      <td>66.910004</td>\n",
       "      <td>False</td>\n",
       "      <td>False</td>\n",
       "    </tr>\n",
       "    <tr>\n",
       "      <th>2022-08-30 11:00:00-03:00</th>\n",
       "      <td>NaN</td>\n",
       "      <td>NaN</td>\n",
       "      <td>65.019997</td>\n",
       "      <td>NaN</td>\n",
       "      <td>NaN</td>\n",
       "      <td>NaN</td>\n",
       "      <td>NaN</td>\n",
       "      <td>NaN</td>\n",
       "      <td>0</td>\n",
       "      <td>66.910004</td>\n",
       "      <td>66.910004</td>\n",
       "      <td>False</td>\n",
       "      <td>False</td>\n",
       "    </tr>\n",
       "    <tr>\n",
       "      <th>2022-08-30 12:00:00-03:00</th>\n",
       "      <td>NaN</td>\n",
       "      <td>NaN</td>\n",
       "      <td>64.930000</td>\n",
       "      <td>NaN</td>\n",
       "      <td>NaN</td>\n",
       "      <td>NaN</td>\n",
       "      <td>NaN</td>\n",
       "      <td>NaN</td>\n",
       "      <td>0</td>\n",
       "      <td>66.910004</td>\n",
       "      <td>66.910004</td>\n",
       "      <td>False</td>\n",
       "      <td>False</td>\n",
       "    </tr>\n",
       "    <tr>\n",
       "      <th>2022-08-30 13:00:00-03:00</th>\n",
       "      <td>NaN</td>\n",
       "      <td>NaN</td>\n",
       "      <td>64.720001</td>\n",
       "      <td>NaN</td>\n",
       "      <td>NaN</td>\n",
       "      <td>NaN</td>\n",
       "      <td>NaN</td>\n",
       "      <td>NaN</td>\n",
       "      <td>0</td>\n",
       "      <td>66.910004</td>\n",
       "      <td>66.910004</td>\n",
       "      <td>False</td>\n",
       "      <td>False</td>\n",
       "    </tr>\n",
       "    <tr>\n",
       "      <th>2022-08-30 14:00:00-03:00</th>\n",
       "      <td>NaN</td>\n",
       "      <td>NaN</td>\n",
       "      <td>64.500000</td>\n",
       "      <td>NaN</td>\n",
       "      <td>NaN</td>\n",
       "      <td>NaN</td>\n",
       "      <td>NaN</td>\n",
       "      <td>NaN</td>\n",
       "      <td>0</td>\n",
       "      <td>66.910004</td>\n",
       "      <td>66.910004</td>\n",
       "      <td>False</td>\n",
       "      <td>False</td>\n",
       "    </tr>\n",
       "    <tr>\n",
       "      <th>2022-08-30 15:00:00-03:00</th>\n",
       "      <td>NaN</td>\n",
       "      <td>NaN</td>\n",
       "      <td>64.739998</td>\n",
       "      <td>NaN</td>\n",
       "      <td>NaN</td>\n",
       "      <td>NaN</td>\n",
       "      <td>NaN</td>\n",
       "      <td>NaN</td>\n",
       "      <td>0</td>\n",
       "      <td>66.910004</td>\n",
       "      <td>66.910004</td>\n",
       "      <td>False</td>\n",
       "      <td>False</td>\n",
       "    </tr>\n",
       "    <tr>\n",
       "      <th>2022-08-30 16:00:00-03:00</th>\n",
       "      <td>NaN</td>\n",
       "      <td>NaN</td>\n",
       "      <td>64.720001</td>\n",
       "      <td>NaN</td>\n",
       "      <td>NaN</td>\n",
       "      <td>NaN</td>\n",
       "      <td>NaN</td>\n",
       "      <td>NaN</td>\n",
       "      <td>0</td>\n",
       "      <td>66.910004</td>\n",
       "      <td>66.910004</td>\n",
       "      <td>False</td>\n",
       "      <td>False</td>\n",
       "    </tr>\n",
       "  </tbody>\n",
       "</table>\n",
       "</div>"
      ],
      "text/plain": [
       "                           Volume  Close  Intraday Close  MME3  MME7  \\\n",
       "2022-08-30 10:00:00-03:00     NaN    NaN       65.449997   NaN   NaN   \n",
       "2022-08-30 11:00:00-03:00     NaN    NaN       65.019997   NaN   NaN   \n",
       "2022-08-30 12:00:00-03:00     NaN    NaN       64.930000   NaN   NaN   \n",
       "2022-08-30 13:00:00-03:00     NaN    NaN       64.720001   NaN   NaN   \n",
       "2022-08-30 14:00:00-03:00     NaN    NaN       64.500000   NaN   NaN   \n",
       "2022-08-30 15:00:00-03:00     NaN    NaN       64.739998   NaN   NaN   \n",
       "2022-08-30 16:00:00-03:00     NaN    NaN       64.720001   NaN   NaN   \n",
       "\n",
       "                           Retorno (Close[1]/Intra)  Volume Projetado  \\\n",
       "2022-08-30 10:00:00-03:00                       NaN               NaN   \n",
       "2022-08-30 11:00:00-03:00                       NaN               NaN   \n",
       "2022-08-30 12:00:00-03:00                       NaN               NaN   \n",
       "2022-08-30 13:00:00-03:00                       NaN               NaN   \n",
       "2022-08-30 14:00:00-03:00                       NaN               NaN   \n",
       "2022-08-30 15:00:00-03:00                       NaN               NaN   \n",
       "2022-08-30 16:00:00-03:00                       NaN               NaN   \n",
       "\n",
       "                           Delta AVAT 1D  Fast AVAT  MME3_intraday  \\\n",
       "2022-08-30 10:00:00-03:00            NaN          0      66.910004   \n",
       "2022-08-30 11:00:00-03:00            NaN          0      66.910004   \n",
       "2022-08-30 12:00:00-03:00            NaN          0      66.910004   \n",
       "2022-08-30 13:00:00-03:00            NaN          0      66.910004   \n",
       "2022-08-30 14:00:00-03:00            NaN          0      66.910004   \n",
       "2022-08-30 15:00:00-03:00            NaN          0      66.910004   \n",
       "2022-08-30 16:00:00-03:00            NaN          0      66.910004   \n",
       "\n",
       "                           MME7_intraday  Fast EMA Cross  Fast EMA Cross Minus  \n",
       "2022-08-30 10:00:00-03:00      66.910004           False                 False  \n",
       "2022-08-30 11:00:00-03:00      66.910004           False                 False  \n",
       "2022-08-30 12:00:00-03:00      66.910004           False                 False  \n",
       "2022-08-30 13:00:00-03:00      66.910004           False                 False  \n",
       "2022-08-30 14:00:00-03:00      66.910004           False                 False  \n",
       "2022-08-30 15:00:00-03:00      66.910004           False                 False  \n",
       "2022-08-30 16:00:00-03:00      66.910004           False                 False  "
      ]
     },
     "metadata": {},
     "output_type": "display_data"
    }
   ],
   "source": [
    "dados['Fast EMA Cross'] = (dados['MME3'] <  dados['MME3_intraday'])  & ( dados['MME3_intraday'] > dados['MME7_intraday']) & (dados['MME3'] < dados['MME7'])\n",
    "dados['Fast EMA Cross Minus'] =(dados['MME3'] >  dados['MME3_intraday'])  & ( dados['MME3_intraday'] < dados['MME7_intraday']) & (dados['MME3'] > dados['MME7'])\n",
    "\n",
    "display(dados)"
   ]
  },
  {
   "cell_type": "code",
   "execution_count": null,
   "metadata": {},
   "outputs": [],
   "source": []
  },
  {
   "cell_type": "code",
   "execution_count": null,
   "metadata": {},
   "outputs": [],
   "source": []
  }
 ],
 "metadata": {
  "kernelspec": {
   "display_name": "Python 3.9.7 64-bit",
   "language": "python",
   "name": "python3"
  },
  "language_info": {
   "codemirror_mode": {
    "name": "ipython",
    "version": 3
   },
   "file_extension": ".py",
   "mimetype": "text/x-python",
   "name": "python",
   "nbconvert_exporter": "python",
   "pygments_lexer": "ipython3",
   "version": "3.9.7"
  },
  "orig_nbformat": 4,
  "vscode": {
   "interpreter": {
    "hash": "8fa0defc4cf06f2b13e36a377494b66ed142011eef6474a42c799b43f2f1f6ff"
   }
  }
 },
 "nbformat": 4,
 "nbformat_minor": 2
}
