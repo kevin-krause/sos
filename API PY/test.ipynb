{
 "cells": [
  {
   "cell_type": "code",
   "execution_count": 1,
   "metadata": {},
   "outputs": [],
   "source": [
    "from flask import Flask, jsonify\n",
    "import pandas as pd\n",
    "import numpy as np\n",
    "\n",
    "# Cosntruir as funcionalidades\n",
    "\n",
    "def pegardados():\n",
    "  dadosAPI = pd.read_json('C:/Codding Hub/2022/py/Simple-TF/Heatmap/sos/dados/dados.json')\n",
    "  #dadosAPI = (dadosAPI.to_string())\n",
    "  dadosAPI = dadosAPI.values.tolist()\n",
    "  '''print (dadosAPI)'''\n",
    "  \n",
    "\n",
    "  for dado in dadosAPI:\n",
    "    resposta= dadosAPI\n",
    "\n",
    "    print(resposta)\n",
    "    return resposta\n",
    "\n",
    "\n",
    "\n",
    "# tabela = pd.read_csv('2022/py/Simple-TF/Heatmap/dados/dados.csv')\n",
    "\n"
   ]
  },
  {
   "cell_type": "code",
   "execution_count": 7,
   "metadata": {},
   "outputs": [
    {
     "name": "stdout",
     "output_type": "stream",
     "text": [
      "ABEV3.SA\n"
     ]
    }
   ],
   "source": [
    "\n",
    "dadosAPI = pd.read_json('C:/Codding Hub/2022/py/Simple-TF/Heatmap/sos/dados/dados.json')\n",
    "  #dadosAPI = (dadosAPI.to_string())\n",
    "dadosAPI = pd.DataFrame(dadosAPI)\n",
    "dadosColuna = dadosAPI.iloc[-1]\n",
    "print (dadosColuna.first_valid_index())\n",
    "\n",
    "  \n",
    "\n",
    "  \n",
    "\n"
   ]
  }
 ],
 "metadata": {
  "kernelspec": {
   "display_name": "Python 3.9.7 64-bit",
   "language": "python",
   "name": "python3"
  },
  "language_info": {
   "codemirror_mode": {
    "name": "ipython",
    "version": 3
   },
   "file_extension": ".py",
   "mimetype": "text/x-python",
   "name": "python",
   "nbconvert_exporter": "python",
   "pygments_lexer": "ipython3",
   "version": "3.9.7"
  },
  "orig_nbformat": 4,
  "vscode": {
   "interpreter": {
    "hash": "8fa0defc4cf06f2b13e36a377494b66ed142011eef6474a42c799b43f2f1f6ff"
   }
  }
 },
 "nbformat": 4,
 "nbformat_minor": 2
}
