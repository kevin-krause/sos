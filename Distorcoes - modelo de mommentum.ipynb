{
 "cells": [
  {
   "cell_type": "code",
   "execution_count": null,
   "id": "c7f8cd5d",
   "metadata": {},
   "outputs": [],
   "source": [
    "import yfinance as yf\n",
    "import pandas as pd\n",
    "import numpy as np\n",
    "import pandas_datareader as web\n",
    "import yfinance as yf\n",
    "import yahoo_fin\n",
    "from datetime import datetime\n",
    "import pytz\n",
    "import xlwt"
   ]
  },
  {
   "cell_type": "code",
   "execution_count": null,
   "id": "e7cc5b06",
   "metadata": {},
   "outputs": [],
   "source": [
    "tickers = \"ALPA4.SA ^BVSP\""
   ]
  },
  {
   "cell_type": "code",
   "execution_count": null,
   "id": "c1edff82",
   "metadata": {},
   "outputs": [],
   "source": [
    "end_date =  '{}-{}-{}' .format( datetime.now().year,  datetime.now().month,  datetime.now().day)"
   ]
  },
  {
   "cell_type": "code",
   "execution_count": null,
   "id": "b725869c",
   "metadata": {
    "scrolled": true
   },
   "outputs": [],
   "source": [
    "yahoo_data = yf.download(tickers=tickers, start=\"2021-11-30\", end=end_date, interval='1d')\n",
    "intraday_data = yf.download(tickers=tickers, period=\"1d\", interval=\"1h\")"
   ]
  },
  {
   "cell_type": "code",
   "execution_count": null,
   "id": "31f13456",
   "metadata": {},
   "outputs": [],
   "source": [
    "yahoo_data "
   ]
  },
  {
   "cell_type": "code",
   "execution_count": null,
   "id": "003598a3",
   "metadata": {},
   "outputs": [],
   "source": [
    "close = yahoo_data['Close']\n",
    "volume = yahoo_data['Volume']\n",
    "high = yahoo_data['High']\n",
    "low = yahoo_data['Low']\n",
    "# INTRADAY\n",
    "intraday_close = intraday_data['Close']\n",
    "intraday_high = intraday_data['High']\n",
    "intraday_low = intraday_data['Low']\n"
   ]
  },
  {
   "cell_type": "code",
   "execution_count": null,
   "id": "fb985f84",
   "metadata": {},
   "outputs": [],
   "source": [
    "intraday_close"
   ]
  },
  {
   "cell_type": "code",
   "execution_count": null,
   "id": "0552ea56",
   "metadata": {},
   "outputs": [],
   "source": [
    "intraday_volume = intraday_data['Volume']\n",
    "intraday_high"
   ]
  },
  {
   "cell_type": "code",
   "execution_count": null,
   "id": "eeacb23b",
   "metadata": {},
   "outputs": [],
   "source": [
    "dados = pd.DataFrame()\n",
    "dados['Volume'] = volume.iloc[:,-1]\n",
    "dados['Close'] = close.iloc[:,-1]\n",
    "dados['Intraday Close'] = intraday_close.iloc[:,-1]\n",
    "MME3 = close.ewm(span=3).mean()\n",
    "MME7 = close.ewm(span=7).mean()\n",
    "dados['MME3'] = MME3.iloc[:,-1]\n",
    "dados['MME7'] = MME7.iloc[:,-1]\n",
    "both_close =  pd.concat([close,intraday_close.tail(1)]) "
   ]
  },
  {
   "cell_type": "code",
   "execution_count": null,
   "id": "24e79d26",
   "metadata": {},
   "outputs": [],
   "source": [
    "def Volume_Projetado(VolumeAtual):\n",
    "  now = datetime.now()\n",
    "  BrazilHour = now.hour -3\n",
    "  BrazilMinute = now.minute\n",
    "  diffMinutes = 60 - BrazilMinute\n",
    "\n",
    "  diffClose = (18 - BrazilHour) * 60 - BrazilMinute\n",
    "  diffOpen = (BrazilHour - 10) * 60 + BrazilMinute\n",
    "\n",
    "  VolumeFaltante = diffClose*(VolumeAtual/diffOpen)\n",
    "\n",
    "  VolumeProjetado = VolumeAtual + VolumeFaltante\n",
    "  return VolumeProjetado"
   ]
  },
  {
   "cell_type": "code",
   "execution_count": null,
   "id": "1329a5f9",
   "metadata": {},
   "outputs": [],
   "source": [
    "# DELTA AVAT\n",
    "# Volume Projetado\n",
    "last_two = yf.download(tickers=tickers, period='2d', interval='1d')['Volume'].iloc[:-1]\n",
    "last_two.iloc[:-1] = Volume_Projetado(last_two.iloc[:-1] )\n",
    "last_two"
   ]
  },
  {
   "cell_type": "code",
   "execution_count": null,
   "id": "c4f25dc3",
   "metadata": {},
   "outputs": [],
   "source": [
    "### RETORNO CLOSE ANTERIOR E ULTIMO PREÇO\n",
    "dados['Retorno (Close[1]/Intra)'] = ((dados['Intraday Close'] / dados['Close'] ) -1 ) * 100\n"
   ]
  },
  {
   "cell_type": "code",
   "execution_count": null,
   "id": "57eb3c6f",
   "metadata": {},
   "outputs": [],
   "source": [
    "#### DELTA AVAT 1D\n",
    "# VOLUME PROJETADO / 1D AVAT\n",
    "delta_avat_1d = (last_two.iloc[0, -1] / last_two.iloc[0, -2]) - 1\n",
    "dados['Volume Projetado'] = last_two.iloc[-1]\n",
    "dados['Delta AVAT 1D'] = (dados['Volume Projetado']/dados['Volume']) - 1\n",
    "dados['Fast AVAT'] = (dados['Delta AVAT 1D'] > 0.5) & (dados['Retorno (Close[1]/Intra)'] < 0.5 )  & (dados['Retorno (Close[1]/Intra)'] > -0.5 )\n",
    "dados['Fast AVAT'] = dados['Fast AVAT'].astype(int)"
   ]
  },
  {
   "cell_type": "code",
   "execution_count": null,
   "id": "1bb90357",
   "metadata": {},
   "outputs": [],
   "source": [
    "MME3_intraday = both_close.ewm(span=3).mean()\n",
    "MME7_intraday = both_close.ewm(span=7).mean()"
   ]
  },
  {
   "cell_type": "code",
   "execution_count": null,
   "id": "e9c9d211",
   "metadata": {},
   "outputs": [],
   "source": [
    "dados['MME3_intraday'] = MME3_intraday.iloc[-1]\n",
    "dados['MME7_intraday'] = MME7_intraday.iloc[-1]"
   ]
  },
  {
   "cell_type": "code",
   "execution_count": null,
   "id": "7d60d64c",
   "metadata": {},
   "outputs": [],
   "source": [
    "dados['Fast EMA Cross'] = (dados['MME3'] <  dados['MME3_intraday'])  & ( dados['MME3_intraday'] > dados['MME7_intraday']) & (dados['MME3'] < dados['MME7'])\n",
    "dados['Fast EMA Cross Minus'] =(dados['MME3'] >  dados['MME3_intraday'])  & ( dados['MME3_intraday'] < dados['MME7_intraday']) & (dados['MME3'] > dados['MME7'])\n"
   ]
  },
  {
   "cell_type": "code",
   "execution_count": null,
   "id": "da4eff80",
   "metadata": {},
   "outputs": [],
   "source": [
    "dados['Fast EMA Cross'] = (dados['MME3'] <  dados['MME3_intraday'])  & ( dados['MME3_intraday'] > dados['MME7_intraday']) & (dados['MME3'] < dados['MME7'])\n",
    "dados['Fast EMA Cross Minus'] =(dados['MME3'] >  dados['MME3_intraday'])  & ( dados['MME3_intraday'] < dados['MME7_intraday']) & (dados['MME3'] > dados['MME7'])\n"
   ]
  },
  {
   "cell_type": "code",
   "execution_count": null,
   "id": "4777b8c8",
   "metadata": {},
   "outputs": [],
   "source": [
    "MME10_intraday = both_close.ewm(span=10).mean()\n",
    "MME28_intraday = both_close.ewm(span=28).mean()\n",
    "MME10 = close.ewm(span=10).mean()\n",
    "MME28 = close.ewm(span=28).mean()\n",
    "dados['MME10'] = MME10.iloc[:,-1]\n",
    "dados['MME28'] = MME28.iloc[:,-1]\n",
    "dados['MME10_intraday'] = MME10_intraday.iloc[:,-1]\n",
    "dados['MME28_intraday'] = MME28_intraday.iloc[:,-1]\n",
    "dados['Slow EMA Cross'] =  (dados['MME10'] <  dados['MME10_intraday'])  & ( dados['MME10_intraday'] > dados['MME28_intraday']) & (dados['MME10'] < dados['MME28'])\n",
    "dados['Slow EMA Cross Minus'] = (dados['MME10'] >  dados['MME10_intraday'])  & ( dados['MME10_intraday'] < dados['MME28_intraday']) & (dados['MME10'] > dados['MME28'])\n",
    "dados['Slow EMA Cross'] = dados['Slow EMA Cross'].astype(int)\n",
    "dados['Slow EMA Cross Minus'] = dados['Slow EMA Cross Minus'].astype(int)*-1"
   ]
  },
  {
   "cell_type": "code",
   "execution_count": null,
   "id": "72149adc",
   "metadata": {},
   "outputs": [],
   "source": [
    "# 9.1 de Compra\n",
    "# MME9 (ONTEM) > MME9_anterior (ANTEONTEM)\n",
    "MME9_anterior_anterior = close.iloc[:,-2].ewm(span=9).mean()\n",
    "MME9_anterior = close.iloc[:,-1].ewm(span=9).mean()\n",
    "MME9 = close.ewm(span=9).mean()\n",
    "# Close de ontem vs close de anteontem\n",
    "close_anteontem = close.iloc[:, -2]\n",
    "close_ontem =  close.iloc[:, -1]\n",
    "# máxima DE ONTEM\n",
    "high_ontem = high.iloc[:,-1]\n",
    "# O VALOR INTRADAY MAX DE HOJE > max de ontem\n",
    "high_agora = intraday_high.iloc[:,-1]\n",
    "high_agora"
   ]
  },
  {
   "cell_type": "code",
   "execution_count": null,
   "id": "c412d576",
   "metadata": {},
   "outputs": [],
   "source": [
    "dados['MME9 Anterior Anterior'] = MME9_anterior_anterior.iloc[-1]\n",
    "dados['MME9 Anterior'] = MME9_anterior.iloc[:-1]\n",
    "dados['MME9'] = MME9.iloc[:, -1]\n",
    "dados['Close Anterior'] = close_anteontem\n",
    "dados['Close'] = close_ontem\n",
    "dados['High Ontem'] = high_ontem\n",
    "dados['High Agora'] = high_agora"
   ]
  },
  {
   "cell_type": "code",
   "execution_count": null,
   "id": "afdabba9",
   "metadata": {},
   "outputs": [],
   "source": [
    "# MACD REVERSAL\n",
    "# MACD1 = MME 26D - MME 12D\n",
    "MME26 = both_close.ewm(span=26).mean()\n",
    "MME12 = both_close.ewm(span=12).mean()\n",
    "MACD1 = MME26 - MME12\n",
    "# MACD1[1]\n",
    "MME26_anterior = both_close.iloc[:-1].ewm(span=26).mean()\n",
    "MME12_anterior = both_close.iloc[:-1].ewm(span=12).mean()\n",
    "MACD1_anterior = MME26_anterior - MME12_anterior\n",
    "# MACD SIGNAL = MME9D\n",
    "MACD_SIGNAL = both_close.ewm(span=9).mean()\n",
    "MACD_SIGNAL_anterior = both_close.iloc[:-1].ewm(span=9).mean()\n",
    "# MACD2 = MACD1 - MACD SIGNAL\n",
    "MACD2_anterior = MACD1_anterior - MACD_SIGNAL_anterior\n",
    "MACD2 = MACD1 - MACD_SIGNAL\n",
    "# Se MACD2 t-1 < 0 e MACD2 t > 0  ==>  sinal de reversão de tendência de baixa para alta\n",
    "# Se MACD2 t-1 > 0 e MACD2t < 0   ==>  sinal de reversão de tendência de alta para baixa\n",
    "dados['MACD[1]'] = MACD2_anterior.iloc[-1]\n",
    "dados['MACD'] = MACD2.iloc[-1]\n",
    "\n",
    "dados['MACD Reversal'] = (dados['MACD[1]'] < 0 ) & (dados['MACD'] > 0 )\n",
    "dados['MACD Reversal'] = dados['MACD Reversal'].astype(int)\n",
    "\n",
    "dados['MACD Reversal Minus'] = (dados['MACD[1]'] > 0 ) & (dados['MACD'] < 0 )\n",
    "dados['MACD Reversal Minus'] = dados['MACD Reversal Minus'].astype(int)*(-1)\n"
   ]
  },
  {
   "cell_type": "code",
   "execution_count": null,
   "id": "12399a79",
   "metadata": {},
   "outputs": [],
   "source": [
    "\n",
    "# DIDI POKE\n",
    "# DDPlus = MA 3D / MA 8D\n",
    "# DDMinus = MA 20D / MA 8D\n",
    "DDPlus = both_close.rolling(3).mean() / both_close.rolling(8).mean()\n",
    "DDMinus = both_close.rolling(20).mean() / both_close.rolling(8).mean()\n",
    "# ANTERIOR\n",
    "DDPlus_anterior = both_close.iloc[:-1].rolling(3).mean() / both_close.iloc[:-1].rolling(8).mean()\n",
    "DDMinus_anterior = both_close.iloc[:-1].rolling(20).mean() / both_close.iloc[:-1].rolling(8).mean()\n",
    "\n",
    "# DD CROSS\n",
    "# Se DD Plus é crescente e cruza DD Minus decrescente → 1\n",
    "# Se DD Minus é crescente e cruza DD Plus decrescente → -1\n",
    "dados['DDPlus[1]'] = DDPlus_anterior.iloc[-1]\n",
    "dados['DDPlus'] = DDPlus.iloc[-1]\n",
    "dados['DDMinus[1]'] = DDMinus_anterior.iloc[-1]\n",
    "dados['DDMinus'] = DDMinus.iloc[-1]\n",
    "dados['DDCross'] = (dados['DDPlus[1]'] < dados['DDMinus[1]']) & (dados['DDPlus'] > dados['DDMinus']) & (dados['DDPlus'] > dados['DDPlus[1]']) & (dados['DDMinus'] < dados['DDMinus[1]']  )\n",
    "dados['DDCross'] = dados['DDCross'].astype(int)\n",
    "dados['DDCross Minus'] = (dados['DDPlus[1]'] > dados['DDMinus[1]']) & (dados['DDPlus'] < dados['DDMinus']) & (dados['DDPlus'] < dados['DDPlus[1]']) & (dados['DDMinus'] > dados['DDMinus[1]']  )\n",
    "dados['DDCross Minus'] = dados['DDCross Minus'].astype(int)* (-1)\n"
   ]
  },
  {
   "cell_type": "code",
   "execution_count": null,
   "id": "531a1d6e",
   "metadata": {},
   "outputs": [],
   "source": [
    "\n",
    "# DD POKE\n",
    "# Se DD Plus é crescente e cruza DD Minus decrescente e ao mesmo tempo DD Pluse DD Minus cruzam o zero → 1\n",
    "# Se DD Minus é crescente e cruza DD Plus decrescente ao mesmo tempo DD Plus e DD  Minus cruzam o zero → -1\n",
    "dados['DDPOKE'] = (dados['DDPlus[1]'] < dados['DDMinus[1]']) & (dados['DDPlus'] > dados['DDMinus']) & (dados['DDPlus'] > dados['DDPlus[1]']) & (dados['DDMinus'] < dados['DDMinus[1]']  ) & (dados['DDPlus[1]'] < 0 ) & (dados['DDPlus'] > 0 ) & (dados['DDMinus[1]'] > 0) & (dados['DDMinus'] < 0 )\n",
    "dados['DDPOKE'] = dados['DDPOKE'].astype(int)\n",
    "dados['DDPOKE Minus'] = (dados['DDPlus[1]'] > dados['DDMinus[1]']) & (dados['DDPlus'] < dados['DDMinus']) & (dados['DDPlus'] > dados['DDPlus[1]']) & (dados['DDMinus'] > dados['DDMinus[1]']  ) & (dados['DDPlus[1]'] > 0 ) & (dados['DDPlus'] < 0 ) & (dados['DDMinus[1]'] < 0) & (dados['DDMinus'] > 0 ) \n",
    "dados['DDPOKE Minus'] = dados['DDPOKE Minus'].astype(int)* (-1)\n"
   ]
  },
  {
   "cell_type": "code",
   "execution_count": null,
   "id": "c361ea5a",
   "metadata": {},
   "outputs": [],
   "source": [
    "# HURST EXPONENT\n",
    "\n",
    "from numpy import log, polyfit, var, subtract \n",
    "\n",
    "def hurst(ts, n): \n",
    "    lags = range(2, n)\n",
    "    variances = []\n",
    "    for lag in lags: \n",
    "        price_diff = subtract(ts[lag:], ts[:-lag])\n",
    "        variances.append(var(price_diff))\n",
    "    m = polyfit(log(lags), log(variances), 1)\n",
    "    hurst_val = m[0] / 2.0\n",
    "    return hurst_val"
   ]
  },
  {
   "cell_type": "code",
   "execution_count": null,
   "id": "230a79bd",
   "metadata": {},
   "outputs": [],
   "source": [
    "teste = hurst(dados['Close'],25)"
   ]
  },
  {
   "cell_type": "code",
   "execution_count": null,
   "id": "eaf5600a",
   "metadata": {},
   "outputs": [],
   "source": [
    "# 90D\n",
    "resistencia_90D =  high.iloc[-90:-1].max()\n",
    "suporte_90D = low.iloc[-90:-1].min()\n",
    "\n",
    "dados['Breakout 90D'] = ((intraday_high.max() > resistencia_90D) & (high.iloc[-1] < resistencia_90D) ).astype(int) * 0.5\n",
    "dados['Breakdown 90D'] = ( (intraday_low.min() < suporte_90D) & (low.iloc[-1] > suporte_90D)   ).astype(int) * (-0.5)\n",
    "\n",
    "\n",
    "# 180D\n",
    "resistencia_180D =  high.iloc[-180:-1].max()\n",
    "suporte_180D = low.iloc[-180:-1].min()\n",
    "\n",
    "dados['Breakout 180D'] = ((intraday_high.max() > resistencia_180D) & (high.iloc[-1] < resistencia_180D) ).astype(int) * 0.5\n",
    "dados['Breakdown 180D'] = ( (intraday_low.min() < suporte_180D) & (low.iloc[-1] > suporte_180D)   ).astype(int) * (-0.5)\n",
    "\n",
    "# 260D\n",
    "\n",
    "resistencia = high.iloc[-260:-1].max()\n",
    "suporte = low.iloc[-260:-1].min()\n",
    "\n",
    "dados['Breakout 260D'] = (( high.iloc[-1] < resistencia ) & (intraday_high.max() >= resistencia )).astype(int) \n",
    "dados['Breakdown 260D'] = ( ( low.iloc[-1] > suporte ) & (intraday_low.min() <= suporte )).astype(int) * (-1)\n",
    "\n",
    "\n",
    "#BREAKOUT AND BREAKDOWN\n",
    "\n",
    "dados['Breakout Signal'] = dados['Breakout 90D'] + dados['Breakdown 90D'] + dados['Breakout 180D'] + dados['Breakdown 180D'] + dados['Breakout 260D'] + dados['Breakdown 260D']\n"
   ]
  },
  {
   "cell_type": "code",
   "execution_count": null,
   "id": "449c632e",
   "metadata": {},
   "outputs": [],
   "source": [
    "pd.set_option(\"display.max_rows\", None, \"display.max_columns\", None)\n"
   ]
  },
  {
   "cell_type": "code",
   "execution_count": null,
   "id": "de3f34d9",
   "metadata": {},
   "outputs": [],
   "source": [
    "# somar dados['Fast AVAT']  depois\n",
    "dados['SCORE'] = dados['Fast EMA Cross'] +  dados['Fast EMA Cross Minus'] +  dados['Slow EMA Cross'] +  dados['Slow EMA Cross Minus'] + dados['MACD Reversal'] +  dados['MACD Reversal Minus'] +  dados['Breakout Signal']\n"
   ]
  },
  {
   "cell_type": "code",
   "execution_count": null,
   "id": "7df48ff6",
   "metadata": {},
   "outputs": [],
   "source": [
    "dados.sort_values( by=['SCORE'], ascending=False)"
   ]
  },
  {
   "cell_type": "code",
   "execution_count": null,
   "id": "a40b8ede",
   "metadata": {
    "scrolled": true
   },
   "outputs": [],
   "source": [
    "dados.to_excel('DestaquesMidLarge.xls')"
   ]
  }
 ],
 "metadata": {
  "kernelspec": {
   "display_name": "Python 3.9.7 64-bit",
   "language": "python",
   "name": "python3"
  },
  "language_info": {
   "codemirror_mode": {
    "name": "ipython",
    "version": 3
   },
   "file_extension": ".py",
   "mimetype": "text/x-python",
   "name": "python",
   "nbconvert_exporter": "python",
   "pygments_lexer": "ipython3",
   "version": "3.9.7"
  },
  "vscode": {
   "interpreter": {
    "hash": "8fa0defc4cf06f2b13e36a377494b66ed142011eef6474a42c799b43f2f1f6ff"
   }
  }
 },
 "nbformat": 4,
 "nbformat_minor": 5
}
